{
 "cells": [
  {
   "cell_type": "markdown",
   "metadata": {
    "collapsed": true
   },
   "source": [
    "<table style=\"float:left; border:none\">\n",
    "   <tr style=\"border:none; background-color: #ffffff\">\n",
    "       <td style=\"border:none\">\n",
    "           <a href=\"http://bokeh.pydata.org/\">     \n",
    "           <img \n",
    "               src=\"assets/bokeh-transparent.png\" \n",
    "               style=\"width:50px\"\n",
    "           >\n",
    "           </a>    \n",
    "       </td>\n",
    "       <td style=\"border:none\">\n",
    "           <h1>Bokeh Tutorial</h1>\n",
    "       </td>\n",
    "   </tr>\n",
    "</table>\n",
    "\n",
    "<div style=\"float:right;\"><h2>01. Basic Plotting</h2></div>"
   ]
  },
  {
   "cell_type": "markdown",
   "metadata": {},
   "source": [
    "This section of the tutorial covers the [`bokeh.plotting`](http://bokeh.pydata.org/en/latest/docs/user_guide/plotting.html) \n",
    "interface. This interface is a \"mid-level\" interface, and the main idea can be described by the statement:\n",
    "\n",
    "**Starting from simple default figures (with sensible default tools, grids and axes), add markers and other shapes whose visual attributes are tied to directly data.**\n",
    "\n",
    "We will see that it is possible to customize and change all of the defaults, but having them means that it is possible to get up and running very quickly. "
   ]
  },
  {
   "cell_type": "markdown",
   "metadata": {},
   "source": [
    "# Imports and Setup\n",
    "\n",
    "When using the [`bokeh.plotting`](http://bokeh.pydata.org/en/latest/docs/user_guide/plotting.html) interface, there are a few common imports:\n",
    "* Use the [`figure`](http://bokeh.pydata.org/en/latest/docs/reference/plotting.html#bokeh.plotting.figure) function to  create new plot objects to work with. \n",
    "* Call the functions [`output_file`](http://bokeh.pydata.org/en/latest/docs/reference/resources_embedding.html#bokeh.io.output_file), [`output_notebook`](http://bokeh.pydata.org/en/latest/docs/reference/resources_embedding.html#bokeh.io.output_notebook), and [`output_server`](http://bokeh.pydata.org/en/latest/docs/reference/resources_embedding.html#bokeh.io.output_server) (possibly in combination) to tell Bokeh how to display or save output. \n",
    "* Execute [`show`](http://bokeh.pydata.org/en/latest/docs/reference/resources_embedding.html#bokeh.io.show) and  [`save`](http://bokeh.pydata.org/en/latest/docs/reference/resources_embedding.html#bokeh.io.save) to display or save plots and layouts."
   ]
  },
  {
   "cell_type": "code",
   "execution_count": 1,
   "metadata": {},
   "outputs": [],
   "source": [
    "from bokeh.io import output_notebook, show\n",
    "from bokeh.plotting import figure"
   ]
  },
  {
   "cell_type": "code",
   "execution_count": null,
   "metadata": {},
   "outputs": [],
   "source": []
  },
  {
   "cell_type": "markdown",
   "metadata": {},
   "source": [
    "In this case, we are in the Jupyter notebook, so call `output_notebook()`. We only need to call this once, and all subsequent calls to `show()` will display inline in the notebook."
   ]
  },
  {
   "cell_type": "code",
   "execution_count": 2,
   "metadata": {},
   "outputs": [
    {
     "data": {
      "text/html": [
       "\n",
       "    <div class=\"bk-root\">\n",
       "        <a href=\"https://bokeh.pydata.org\" target=\"_blank\" class=\"bk-logo bk-logo-small bk-logo-notebook\"></a>\n",
       "        <span id=\"cd7cc903-e78e-4d85-baa0-114bc7f16807\">Loading BokehJS ...</span>\n",
       "    </div>"
      ]
     },
     "metadata": {},
     "output_type": "display_data"
    },
    {
     "data": {
      "application/javascript": [
       "\n",
       "(function(root) {\n",
       "  function now() {\n",
       "    return new Date();\n",
       "  }\n",
       "\n",
       "  var force = true;\n",
       "\n",
       "  if (typeof (root._bokeh_onload_callbacks) === \"undefined\" || force === true) {\n",
       "    root._bokeh_onload_callbacks = [];\n",
       "    root._bokeh_is_loading = undefined;\n",
       "  }\n",
       "\n",
       "  var JS_MIME_TYPE = 'application/javascript';\n",
       "  var HTML_MIME_TYPE = 'text/html';\n",
       "  var EXEC_MIME_TYPE = 'application/vnd.bokehjs_exec.v0+json';\n",
       "  var CLASS_NAME = 'output_bokeh rendered_html';\n",
       "\n",
       "  /**\n",
       "   * Render data to the DOM node\n",
       "   */\n",
       "  function render(props, node) {\n",
       "    var script = document.createElement(\"script\");\n",
       "    node.appendChild(script);\n",
       "  }\n",
       "\n",
       "  /**\n",
       "   * Handle when an output is cleared or removed\n",
       "   */\n",
       "  function handleClearOutput(event, handle) {\n",
       "    var cell = handle.cell;\n",
       "\n",
       "    var id = cell.output_area._bokeh_element_id;\n",
       "    var server_id = cell.output_area._bokeh_server_id;\n",
       "    // Clean up Bokeh references\n",
       "    if (id !== undefined) {\n",
       "      Bokeh.index[id].model.document.clear();\n",
       "      delete Bokeh.index[id];\n",
       "    }\n",
       "\n",
       "    if (server_id !== undefined) {\n",
       "      // Clean up Bokeh references\n",
       "      var cmd = \"from bokeh.io.state import curstate; print(curstate().uuid_to_server['\" + server_id + \"'].get_sessions()[0].document.roots[0]._id)\";\n",
       "      cell.notebook.kernel.execute(cmd, {\n",
       "        iopub: {\n",
       "          output: function(msg) {\n",
       "            var element_id = msg.content.text.trim();\n",
       "            Bokeh.index[element_id].model.document.clear();\n",
       "            delete Bokeh.index[element_id];\n",
       "          }\n",
       "        }\n",
       "      });\n",
       "      // Destroy server and session\n",
       "      var cmd = \"import bokeh.io.notebook as ion; ion.destroy_server('\" + server_id + \"')\";\n",
       "      cell.notebook.kernel.execute(cmd);\n",
       "    }\n",
       "  }\n",
       "\n",
       "  /**\n",
       "   * Handle when a new output is added\n",
       "   */\n",
       "  function handleAddOutput(event, handle) {\n",
       "    var output_area = handle.output_area;\n",
       "    var output = handle.output;\n",
       "\n",
       "    // limit handleAddOutput to display_data with EXEC_MIME_TYPE content only\n",
       "    if ((output.output_type != \"display_data\") || (!output.data.hasOwnProperty(EXEC_MIME_TYPE))) {\n",
       "      return\n",
       "    }\n",
       "\n",
       "    var toinsert = output_area.element.find(`.${CLASS_NAME.split(' ')[0]}`);\n",
       "\n",
       "    if (output.metadata[EXEC_MIME_TYPE][\"id\"] !== undefined) {\n",
       "      toinsert[0].firstChild.textContent = output.data[JS_MIME_TYPE];\n",
       "      // store reference to embed id on output_area\n",
       "      output_area._bokeh_element_id = output.metadata[EXEC_MIME_TYPE][\"id\"];\n",
       "    }\n",
       "    if (output.metadata[EXEC_MIME_TYPE][\"server_id\"] !== undefined) {\n",
       "      var bk_div = document.createElement(\"div\");\n",
       "      bk_div.innerHTML = output.data[HTML_MIME_TYPE];\n",
       "      var script_attrs = bk_div.children[0].attributes;\n",
       "      for (var i = 0; i < script_attrs.length; i++) {\n",
       "        toinsert[0].firstChild.setAttribute(script_attrs[i].name, script_attrs[i].value);\n",
       "      }\n",
       "      // store reference to server id on output_area\n",
       "      output_area._bokeh_server_id = output.metadata[EXEC_MIME_TYPE][\"server_id\"];\n",
       "    }\n",
       "  }\n",
       "\n",
       "  function register_renderer(events, OutputArea) {\n",
       "\n",
       "    function append_mime(data, metadata, element) {\n",
       "      // create a DOM node to render to\n",
       "      var toinsert = this.create_output_subarea(\n",
       "        metadata,\n",
       "        CLASS_NAME,\n",
       "        EXEC_MIME_TYPE\n",
       "      );\n",
       "      this.keyboard_manager.register_events(toinsert);\n",
       "      // Render to node\n",
       "      var props = {data: data, metadata: metadata[EXEC_MIME_TYPE]};\n",
       "      render(props, toinsert[0]);\n",
       "      element.append(toinsert);\n",
       "      return toinsert\n",
       "    }\n",
       "\n",
       "    /* Handle when an output is cleared or removed */\n",
       "    events.on('clear_output.CodeCell', handleClearOutput);\n",
       "    events.on('delete.Cell', handleClearOutput);\n",
       "\n",
       "    /* Handle when a new output is added */\n",
       "    events.on('output_added.OutputArea', handleAddOutput);\n",
       "\n",
       "    /**\n",
       "     * Register the mime type and append_mime function with output_area\n",
       "     */\n",
       "    OutputArea.prototype.register_mime_type(EXEC_MIME_TYPE, append_mime, {\n",
       "      /* Is output safe? */\n",
       "      safe: true,\n",
       "      /* Index of renderer in `output_area.display_order` */\n",
       "      index: 0\n",
       "    });\n",
       "  }\n",
       "\n",
       "  // register the mime type if in Jupyter Notebook environment and previously unregistered\n",
       "  if (root.Jupyter !== undefined) {\n",
       "    var events = require('base/js/events');\n",
       "    var OutputArea = require('notebook/js/outputarea').OutputArea;\n",
       "\n",
       "    if (OutputArea.prototype.mime_types().indexOf(EXEC_MIME_TYPE) == -1) {\n",
       "      register_renderer(events, OutputArea);\n",
       "    }\n",
       "  }\n",
       "\n",
       "  \n",
       "  if (typeof (root._bokeh_timeout) === \"undefined\" || force === true) {\n",
       "    root._bokeh_timeout = Date.now() + 5000;\n",
       "    root._bokeh_failed_load = false;\n",
       "  }\n",
       "\n",
       "  var NB_LOAD_WARNING = {'data': {'text/html':\n",
       "     \"<div style='background-color: #fdd'>\\n\"+\n",
       "     \"<p>\\n\"+\n",
       "     \"BokehJS does not appear to have successfully loaded. If loading BokehJS from CDN, this \\n\"+\n",
       "     \"may be due to a slow or bad network connection. Possible fixes:\\n\"+\n",
       "     \"</p>\\n\"+\n",
       "     \"<ul>\\n\"+\n",
       "     \"<li>re-rerun `output_notebook()` to attempt to load from CDN again, or</li>\\n\"+\n",
       "     \"<li>use INLINE resources instead, as so:</li>\\n\"+\n",
       "     \"</ul>\\n\"+\n",
       "     \"<code>\\n\"+\n",
       "     \"from bokeh.resources import INLINE\\n\"+\n",
       "     \"output_notebook(resources=INLINE)\\n\"+\n",
       "     \"</code>\\n\"+\n",
       "     \"</div>\"}};\n",
       "\n",
       "  function display_loaded() {\n",
       "    var el = document.getElementById(\"cd7cc903-e78e-4d85-baa0-114bc7f16807\");\n",
       "    if (el != null) {\n",
       "      el.textContent = \"BokehJS is loading...\";\n",
       "    }\n",
       "    if (root.Bokeh !== undefined) {\n",
       "      if (el != null) {\n",
       "        el.textContent = \"BokehJS \" + root.Bokeh.version + \" successfully loaded.\";\n",
       "      }\n",
       "    } else if (Date.now() < root._bokeh_timeout) {\n",
       "      setTimeout(display_loaded, 100)\n",
       "    }\n",
       "  }\n",
       "\n",
       "\n",
       "  function run_callbacks() {\n",
       "    try {\n",
       "      root._bokeh_onload_callbacks.forEach(function(callback) { callback() });\n",
       "    }\n",
       "    finally {\n",
       "      delete root._bokeh_onload_callbacks\n",
       "    }\n",
       "    console.info(\"Bokeh: all callbacks have finished\");\n",
       "  }\n",
       "\n",
       "  function load_libs(js_urls, callback) {\n",
       "    root._bokeh_onload_callbacks.push(callback);\n",
       "    if (root._bokeh_is_loading > 0) {\n",
       "      console.log(\"Bokeh: BokehJS is being loaded, scheduling callback at\", now());\n",
       "      return null;\n",
       "    }\n",
       "    if (js_urls == null || js_urls.length === 0) {\n",
       "      run_callbacks();\n",
       "      return null;\n",
       "    }\n",
       "    console.log(\"Bokeh: BokehJS not loaded, scheduling load and callback at\", now());\n",
       "    root._bokeh_is_loading = js_urls.length;\n",
       "    for (var i = 0; i < js_urls.length; i++) {\n",
       "      var url = js_urls[i];\n",
       "      var s = document.createElement('script');\n",
       "      s.src = url;\n",
       "      s.async = false;\n",
       "      s.onreadystatechange = s.onload = function() {\n",
       "        root._bokeh_is_loading--;\n",
       "        if (root._bokeh_is_loading === 0) {\n",
       "          console.log(\"Bokeh: all BokehJS libraries loaded\");\n",
       "          run_callbacks()\n",
       "        }\n",
       "      };\n",
       "      s.onerror = function() {\n",
       "        console.warn(\"failed to load library \" + url);\n",
       "      };\n",
       "      console.log(\"Bokeh: injecting script tag for BokehJS library: \", url);\n",
       "      document.getElementsByTagName(\"head\")[0].appendChild(s);\n",
       "    }\n",
       "  };var element = document.getElementById(\"cd7cc903-e78e-4d85-baa0-114bc7f16807\");\n",
       "  if (element == null) {\n",
       "    console.log(\"Bokeh: ERROR: autoload.js configured with elementid 'cd7cc903-e78e-4d85-baa0-114bc7f16807' but no matching script tag was found. \")\n",
       "    return false;\n",
       "  }\n",
       "\n",
       "  var js_urls = [\"https://cdn.pydata.org/bokeh/release/bokeh-0.12.10.min.js\", \"https://cdn.pydata.org/bokeh/release/bokeh-widgets-0.12.10.min.js\", \"https://cdn.pydata.org/bokeh/release/bokeh-tables-0.12.10.min.js\", \"https://cdn.pydata.org/bokeh/release/bokeh-gl-0.12.10.min.js\"];\n",
       "\n",
       "  var inline_js = [\n",
       "    function(Bokeh) {\n",
       "      Bokeh.set_log_level(\"info\");\n",
       "    },\n",
       "    \n",
       "    function(Bokeh) {\n",
       "      \n",
       "    },\n",
       "    function(Bokeh) {\n",
       "      console.log(\"Bokeh: injecting CSS: https://cdn.pydata.org/bokeh/release/bokeh-0.12.10.min.css\");\n",
       "      Bokeh.embed.inject_css(\"https://cdn.pydata.org/bokeh/release/bokeh-0.12.10.min.css\");\n",
       "      console.log(\"Bokeh: injecting CSS: https://cdn.pydata.org/bokeh/release/bokeh-widgets-0.12.10.min.css\");\n",
       "      Bokeh.embed.inject_css(\"https://cdn.pydata.org/bokeh/release/bokeh-widgets-0.12.10.min.css\");\n",
       "      console.log(\"Bokeh: injecting CSS: https://cdn.pydata.org/bokeh/release/bokeh-tables-0.12.10.min.css\");\n",
       "      Bokeh.embed.inject_css(\"https://cdn.pydata.org/bokeh/release/bokeh-tables-0.12.10.min.css\");\n",
       "    }\n",
       "  ];\n",
       "\n",
       "  function run_inline_js() {\n",
       "    \n",
       "    if ((root.Bokeh !== undefined) || (force === true)) {\n",
       "      for (var i = 0; i < inline_js.length; i++) {\n",
       "        inline_js[i].call(root, root.Bokeh);\n",
       "      }if (force === true) {\n",
       "        display_loaded();\n",
       "      }} else if (Date.now() < root._bokeh_timeout) {\n",
       "      setTimeout(run_inline_js, 100);\n",
       "    } else if (!root._bokeh_failed_load) {\n",
       "      console.log(\"Bokeh: BokehJS failed to load within specified timeout.\");\n",
       "      root._bokeh_failed_load = true;\n",
       "    } else if (force !== true) {\n",
       "      var cell = $(document.getElementById(\"cd7cc903-e78e-4d85-baa0-114bc7f16807\")).parents('.cell').data().cell;\n",
       "      cell.output_area.append_execute_result(NB_LOAD_WARNING)\n",
       "    }\n",
       "\n",
       "  }\n",
       "\n",
       "  if (root._bokeh_is_loading === 0) {\n",
       "    console.log(\"Bokeh: BokehJS loaded, going straight to plotting\");\n",
       "    run_inline_js();\n",
       "  } else {\n",
       "    load_libs(js_urls, function() {\n",
       "      console.log(\"Bokeh: BokehJS plotting callback run at\", now());\n",
       "      run_inline_js();\n",
       "    });\n",
       "  }\n",
       "}(window));"
      ],
      "application/vnd.bokehjs_load.v0+json": "\n(function(root) {\n  function now() {\n    return new Date();\n  }\n\n  var force = true;\n\n  if (typeof (root._bokeh_onload_callbacks) === \"undefined\" || force === true) {\n    root._bokeh_onload_callbacks = [];\n    root._bokeh_is_loading = undefined;\n  }\n\n  \n\n  \n  if (typeof (root._bokeh_timeout) === \"undefined\" || force === true) {\n    root._bokeh_timeout = Date.now() + 5000;\n    root._bokeh_failed_load = false;\n  }\n\n  var NB_LOAD_WARNING = {'data': {'text/html':\n     \"<div style='background-color: #fdd'>\\n\"+\n     \"<p>\\n\"+\n     \"BokehJS does not appear to have successfully loaded. If loading BokehJS from CDN, this \\n\"+\n     \"may be due to a slow or bad network connection. Possible fixes:\\n\"+\n     \"</p>\\n\"+\n     \"<ul>\\n\"+\n     \"<li>re-rerun `output_notebook()` to attempt to load from CDN again, or</li>\\n\"+\n     \"<li>use INLINE resources instead, as so:</li>\\n\"+\n     \"</ul>\\n\"+\n     \"<code>\\n\"+\n     \"from bokeh.resources import INLINE\\n\"+\n     \"output_notebook(resources=INLINE)\\n\"+\n     \"</code>\\n\"+\n     \"</div>\"}};\n\n  function display_loaded() {\n    var el = document.getElementById(\"cd7cc903-e78e-4d85-baa0-114bc7f16807\");\n    if (el != null) {\n      el.textContent = \"BokehJS is loading...\";\n    }\n    if (root.Bokeh !== undefined) {\n      if (el != null) {\n        el.textContent = \"BokehJS \" + root.Bokeh.version + \" successfully loaded.\";\n      }\n    } else if (Date.now() < root._bokeh_timeout) {\n      setTimeout(display_loaded, 100)\n    }\n  }\n\n\n  function run_callbacks() {\n    try {\n      root._bokeh_onload_callbacks.forEach(function(callback) { callback() });\n    }\n    finally {\n      delete root._bokeh_onload_callbacks\n    }\n    console.info(\"Bokeh: all callbacks have finished\");\n  }\n\n  function load_libs(js_urls, callback) {\n    root._bokeh_onload_callbacks.push(callback);\n    if (root._bokeh_is_loading > 0) {\n      console.log(\"Bokeh: BokehJS is being loaded, scheduling callback at\", now());\n      return null;\n    }\n    if (js_urls == null || js_urls.length === 0) {\n      run_callbacks();\n      return null;\n    }\n    console.log(\"Bokeh: BokehJS not loaded, scheduling load and callback at\", now());\n    root._bokeh_is_loading = js_urls.length;\n    for (var i = 0; i < js_urls.length; i++) {\n      var url = js_urls[i];\n      var s = document.createElement('script');\n      s.src = url;\n      s.async = false;\n      s.onreadystatechange = s.onload = function() {\n        root._bokeh_is_loading--;\n        if (root._bokeh_is_loading === 0) {\n          console.log(\"Bokeh: all BokehJS libraries loaded\");\n          run_callbacks()\n        }\n      };\n      s.onerror = function() {\n        console.warn(\"failed to load library \" + url);\n      };\n      console.log(\"Bokeh: injecting script tag for BokehJS library: \", url);\n      document.getElementsByTagName(\"head\")[0].appendChild(s);\n    }\n  };var element = document.getElementById(\"cd7cc903-e78e-4d85-baa0-114bc7f16807\");\n  if (element == null) {\n    console.log(\"Bokeh: ERROR: autoload.js configured with elementid 'cd7cc903-e78e-4d85-baa0-114bc7f16807' but no matching script tag was found. \")\n    return false;\n  }\n\n  var js_urls = [\"https://cdn.pydata.org/bokeh/release/bokeh-0.12.10.min.js\", \"https://cdn.pydata.org/bokeh/release/bokeh-widgets-0.12.10.min.js\", \"https://cdn.pydata.org/bokeh/release/bokeh-tables-0.12.10.min.js\", \"https://cdn.pydata.org/bokeh/release/bokeh-gl-0.12.10.min.js\"];\n\n  var inline_js = [\n    function(Bokeh) {\n      Bokeh.set_log_level(\"info\");\n    },\n    \n    function(Bokeh) {\n      \n    },\n    function(Bokeh) {\n      console.log(\"Bokeh: injecting CSS: https://cdn.pydata.org/bokeh/release/bokeh-0.12.10.min.css\");\n      Bokeh.embed.inject_css(\"https://cdn.pydata.org/bokeh/release/bokeh-0.12.10.min.css\");\n      console.log(\"Bokeh: injecting CSS: https://cdn.pydata.org/bokeh/release/bokeh-widgets-0.12.10.min.css\");\n      Bokeh.embed.inject_css(\"https://cdn.pydata.org/bokeh/release/bokeh-widgets-0.12.10.min.css\");\n      console.log(\"Bokeh: injecting CSS: https://cdn.pydata.org/bokeh/release/bokeh-tables-0.12.10.min.css\");\n      Bokeh.embed.inject_css(\"https://cdn.pydata.org/bokeh/release/bokeh-tables-0.12.10.min.css\");\n    }\n  ];\n\n  function run_inline_js() {\n    \n    if ((root.Bokeh !== undefined) || (force === true)) {\n      for (var i = 0; i < inline_js.length; i++) {\n        inline_js[i].call(root, root.Bokeh);\n      }if (force === true) {\n        display_loaded();\n      }} else if (Date.now() < root._bokeh_timeout) {\n      setTimeout(run_inline_js, 100);\n    } else if (!root._bokeh_failed_load) {\n      console.log(\"Bokeh: BokehJS failed to load within specified timeout.\");\n      root._bokeh_failed_load = true;\n    } else if (force !== true) {\n      var cell = $(document.getElementById(\"cd7cc903-e78e-4d85-baa0-114bc7f16807\")).parents('.cell').data().cell;\n      cell.output_area.append_execute_result(NB_LOAD_WARNING)\n    }\n\n  }\n\n  if (root._bokeh_is_loading === 0) {\n    console.log(\"Bokeh: BokehJS loaded, going straight to plotting\");\n    run_inline_js();\n  } else {\n    load_libs(js_urls, function() {\n      console.log(\"Bokeh: BokehJS plotting callback run at\", now());\n      run_inline_js();\n    });\n  }\n}(window));"
     },
     "metadata": {},
     "output_type": "display_data"
    }
   ],
   "source": [
    "output_notebook()"
   ]
  },
  {
   "cell_type": "markdown",
   "metadata": {},
   "source": [
    "# Some Basic Scatter Plots\n",
    "\n",
    "In this section you will see how to use Bokeh's various marker types to create simple scatter plots. "
   ]
  },
  {
   "cell_type": "code",
   "execution_count": 3,
   "metadata": {},
   "outputs": [
    {
     "data": {
      "text/html": [
       "\n",
       "<div class=\"bk-root\">\n",
       "    <div class=\"bk-plotdiv\" id=\"0b41a48b-fc93-454b-9ae4-3e0669707e7a\"></div>\n",
       "</div>"
      ]
     },
     "metadata": {},
     "output_type": "display_data"
    },
    {
     "data": {
      "application/javascript": [
       "(function(root) {\n",
       "  function embed_document(root) {\n",
       "    var docs_json = {\"ddb5d3eb-2206-4c1f-ae9f-d63d38af6ab5\":{\"roots\":{\"references\":[{\"attributes\":{\"dimension\":1,\"plot\":{\"id\":\"b07e4dd7-fce0-45e9-ab94-742cf6f95433\",\"subtype\":\"Figure\",\"type\":\"Plot\"},\"ticker\":{\"id\":\"a64152e7-59dc-4a65-a820-fd9901a518b4\",\"type\":\"BasicTicker\"}},\"id\":\"76ce750d-678a-40e8-bd65-50a836c75471\",\"type\":\"Grid\"},{\"attributes\":{\"bottom_units\":\"screen\",\"fill_alpha\":{\"value\":0.5},\"fill_color\":{\"value\":\"lightgrey\"},\"left_units\":\"screen\",\"level\":\"overlay\",\"line_alpha\":{\"value\":1.0},\"line_color\":{\"value\":\"black\"},\"line_dash\":[4,4],\"line_width\":{\"value\":2},\"plot\":null,\"render_mode\":\"css\",\"right_units\":\"screen\",\"top_units\":\"screen\"},\"id\":\"7a5b7689-8504-427c-8433-1e928f61aa85\",\"type\":\"BoxAnnotation\"},{\"attributes\":{\"below\":[{\"id\":\"10890b41-4e2f-489e-bce6-20ac83f85ada\",\"type\":\"LinearAxis\"}],\"left\":[{\"id\":\"e84e87f8-edc3-4ecf-8884-e4e0ce215884\",\"type\":\"LinearAxis\"}],\"plot_height\":400,\"plot_width\":400,\"renderers\":[{\"id\":\"10890b41-4e2f-489e-bce6-20ac83f85ada\",\"type\":\"LinearAxis\"},{\"id\":\"bfc86d59-14fa-4f4a-89d9-1e04275180d9\",\"type\":\"Grid\"},{\"id\":\"e84e87f8-edc3-4ecf-8884-e4e0ce215884\",\"type\":\"LinearAxis\"},{\"id\":\"76ce750d-678a-40e8-bd65-50a836c75471\",\"type\":\"Grid\"},{\"id\":\"7a5b7689-8504-427c-8433-1e928f61aa85\",\"type\":\"BoxAnnotation\"},{\"id\":\"e9cd6ab3-4510-44c9-a312-582ddeb40c52\",\"type\":\"GlyphRenderer\"}],\"title\":{\"id\":\"6b83a23e-7c44-4eb8-b2a7-567c6948728a\",\"type\":\"Title\"},\"toolbar\":{\"id\":\"41c58628-f7bf-4142-9e03-a7133f092075\",\"type\":\"Toolbar\"},\"x_range\":{\"id\":\"9ffd8c33-ca54-4b7c-afa8-c49167f3b565\",\"type\":\"DataRange1d\"},\"x_scale\":{\"id\":\"a85d8a0a-a7e7-434d-ac24-296e3aecac8c\",\"type\":\"LinearScale\"},\"y_range\":{\"id\":\"05bc325e-6366-4c37-9fd6-357ba9e1275b\",\"type\":\"DataRange1d\"},\"y_scale\":{\"id\":\"a3b76fa5-8ad3-48ba-941c-d80802622628\",\"type\":\"LinearScale\"}},\"id\":\"b07e4dd7-fce0-45e9-ab94-742cf6f95433\",\"subtype\":\"Figure\",\"type\":\"Plot\"},{\"attributes\":{\"fill_alpha\":{\"value\":0.1},\"fill_color\":{\"value\":\"#1f77b4\"},\"line_alpha\":{\"value\":0.1},\"line_color\":{\"value\":\"#1f77b4\"},\"size\":{\"units\":\"screen\",\"value\":15},\"x\":{\"field\":\"x\"},\"y\":{\"field\":\"y\"}},\"id\":\"b1d329ed-0d32-44ae-8f5c-580a57db0fb7\",\"type\":\"Circle\"},{\"attributes\":{\"callback\":null,\"column_names\":[\"x\",\"y\"],\"data\":{\"x\":[1,2,3,4,5],\"y\":[6,7,2,4,5]}},\"id\":\"bc29aad9-8b6b-41f9-ac68-659489da5530\",\"type\":\"ColumnDataSource\"},{\"attributes\":{},\"id\":\"5ce1bd78-0368-4e13-8ccb-50169ee43169\",\"type\":\"BasicTickFormatter\"},{\"attributes\":{},\"id\":\"8f6531b0-0797-4d63-80ed-51eee96df776\",\"type\":\"PanTool\"},{\"attributes\":{\"active_drag\":\"auto\",\"active_inspect\":\"auto\",\"active_scroll\":\"auto\",\"active_tap\":\"auto\",\"tools\":[{\"id\":\"8f6531b0-0797-4d63-80ed-51eee96df776\",\"type\":\"PanTool\"},{\"id\":\"9a8cd029-74b8-443d-8e67-e5d8e8b1bcb9\",\"type\":\"WheelZoomTool\"},{\"id\":\"c780eaa1-083a-4381-955f-70f08ab6f249\",\"type\":\"BoxZoomTool\"},{\"id\":\"bdcfec5f-446d-434f-a2ef-22cc1528027c\",\"type\":\"SaveTool\"},{\"id\":\"d6da0a44-559d-47fc-b427-7e690574efc8\",\"type\":\"ResetTool\"},{\"id\":\"db3f85e2-b26e-4e06-b780-69dc31b2cc72\",\"type\":\"HelpTool\"}]},\"id\":\"41c58628-f7bf-4142-9e03-a7133f092075\",\"type\":\"Toolbar\"},{\"attributes\":{},\"id\":\"129e70b4-eff1-4e98-9f4c-2f06a957c060\",\"type\":\"BasicTickFormatter\"},{\"attributes\":{\"callback\":null},\"id\":\"9ffd8c33-ca54-4b7c-afa8-c49167f3b565\",\"type\":\"DataRange1d\"},{\"attributes\":{\"source\":{\"id\":\"bc29aad9-8b6b-41f9-ac68-659489da5530\",\"type\":\"ColumnDataSource\"}},\"id\":\"b3000a93-d5a4-430c-b757-a4b3e8cfea48\",\"type\":\"CDSView\"},{\"attributes\":{},\"id\":\"9a8cd029-74b8-443d-8e67-e5d8e8b1bcb9\",\"type\":\"WheelZoomTool\"},{\"attributes\":{\"plot\":null,\"text\":\"\"},\"id\":\"6b83a23e-7c44-4eb8-b2a7-567c6948728a\",\"type\":\"Title\"},{\"attributes\":{\"overlay\":{\"id\":\"7a5b7689-8504-427c-8433-1e928f61aa85\",\"type\":\"BoxAnnotation\"}},\"id\":\"c780eaa1-083a-4381-955f-70f08ab6f249\",\"type\":\"BoxZoomTool\"},{\"attributes\":{\"callback\":null},\"id\":\"05bc325e-6366-4c37-9fd6-357ba9e1275b\",\"type\":\"DataRange1d\"},{\"attributes\":{},\"id\":\"bdcfec5f-446d-434f-a2ef-22cc1528027c\",\"type\":\"SaveTool\"},{\"attributes\":{},\"id\":\"a85d8a0a-a7e7-434d-ac24-296e3aecac8c\",\"type\":\"LinearScale\"},{\"attributes\":{},\"id\":\"d6da0a44-559d-47fc-b427-7e690574efc8\",\"type\":\"ResetTool\"},{\"attributes\":{},\"id\":\"a3b76fa5-8ad3-48ba-941c-d80802622628\",\"type\":\"LinearScale\"},{\"attributes\":{\"fill_alpha\":{\"value\":0.5},\"fill_color\":{\"value\":\"orange\"},\"line_color\":{\"value\":\"navy\"},\"size\":{\"units\":\"screen\",\"value\":15},\"x\":{\"field\":\"x\"},\"y\":{\"field\":\"y\"}},\"id\":\"8a4ac443-f613-4395-9c96-e2f3cda9d8c9\",\"type\":\"Circle\"},{\"attributes\":{},\"id\":\"db3f85e2-b26e-4e06-b780-69dc31b2cc72\",\"type\":\"HelpTool\"},{\"attributes\":{},\"id\":\"a64152e7-59dc-4a65-a820-fd9901a518b4\",\"type\":\"BasicTicker\"},{\"attributes\":{\"formatter\":{\"id\":\"5ce1bd78-0368-4e13-8ccb-50169ee43169\",\"type\":\"BasicTickFormatter\"},\"plot\":{\"id\":\"b07e4dd7-fce0-45e9-ab94-742cf6f95433\",\"subtype\":\"Figure\",\"type\":\"Plot\"},\"ticker\":{\"id\":\"935903ca-e28b-416b-8770-a8e0c5ed1c4a\",\"type\":\"BasicTicker\"}},\"id\":\"10890b41-4e2f-489e-bce6-20ac83f85ada\",\"type\":\"LinearAxis\"},{\"attributes\":{},\"id\":\"935903ca-e28b-416b-8770-a8e0c5ed1c4a\",\"type\":\"BasicTicker\"},{\"attributes\":{\"plot\":{\"id\":\"b07e4dd7-fce0-45e9-ab94-742cf6f95433\",\"subtype\":\"Figure\",\"type\":\"Plot\"},\"ticker\":{\"id\":\"935903ca-e28b-416b-8770-a8e0c5ed1c4a\",\"type\":\"BasicTicker\"}},\"id\":\"bfc86d59-14fa-4f4a-89d9-1e04275180d9\",\"type\":\"Grid\"},{\"attributes\":{\"formatter\":{\"id\":\"129e70b4-eff1-4e98-9f4c-2f06a957c060\",\"type\":\"BasicTickFormatter\"},\"plot\":{\"id\":\"b07e4dd7-fce0-45e9-ab94-742cf6f95433\",\"subtype\":\"Figure\",\"type\":\"Plot\"},\"ticker\":{\"id\":\"a64152e7-59dc-4a65-a820-fd9901a518b4\",\"type\":\"BasicTicker\"}},\"id\":\"e84e87f8-edc3-4ecf-8884-e4e0ce215884\",\"type\":\"LinearAxis\"},{\"attributes\":{\"data_source\":{\"id\":\"bc29aad9-8b6b-41f9-ac68-659489da5530\",\"type\":\"ColumnDataSource\"},\"glyph\":{\"id\":\"8a4ac443-f613-4395-9c96-e2f3cda9d8c9\",\"type\":\"Circle\"},\"hover_glyph\":null,\"muted_glyph\":null,\"nonselection_glyph\":{\"id\":\"b1d329ed-0d32-44ae-8f5c-580a57db0fb7\",\"type\":\"Circle\"},\"selection_glyph\":null,\"view\":{\"id\":\"b3000a93-d5a4-430c-b757-a4b3e8cfea48\",\"type\":\"CDSView\"}},\"id\":\"e9cd6ab3-4510-44c9-a312-582ddeb40c52\",\"type\":\"GlyphRenderer\"}],\"root_ids\":[\"b07e4dd7-fce0-45e9-ab94-742cf6f95433\"]},\"title\":\"Bokeh Application\",\"version\":\"0.12.10\"}};\n",
       "    var render_items = [{\"docid\":\"ddb5d3eb-2206-4c1f-ae9f-d63d38af6ab5\",\"elementid\":\"0b41a48b-fc93-454b-9ae4-3e0669707e7a\",\"modelid\":\"b07e4dd7-fce0-45e9-ab94-742cf6f95433\"}];\n",
       "\n",
       "    root.Bokeh.embed.embed_items(docs_json, render_items);\n",
       "  }\n",
       "\n",
       "  if (root.Bokeh !== undefined) {\n",
       "    embed_document(root);\n",
       "  } else {\n",
       "    var attempts = 0;\n",
       "    var timer = setInterval(function(root) {\n",
       "      if (root.Bokeh !== undefined) {\n",
       "        embed_document(root);\n",
       "        clearInterval(timer);\n",
       "      }\n",
       "      attempts++;\n",
       "      if (attempts > 100) {\n",
       "        console.log(\"Bokeh: ERROR: Unable to embed document because BokehJS library is missing\")\n",
       "        clearInterval(timer);\n",
       "      }\n",
       "    }, 10, root)\n",
       "  }\n",
       "})(window);"
      ],
      "application/vnd.bokehjs_exec.v0+json": ""
     },
     "metadata": {
      "application/vnd.bokehjs_exec.v0+json": {
       "id": "b07e4dd7-fce0-45e9-ab94-742cf6f95433"
      }
     },
     "output_type": "display_data"
    }
   ],
   "source": [
    "# create a new plot with default tools, using figure\n",
    "p = figure(plot_width=400, plot_height=400)\n",
    "\n",
    "# add a circle renderer with a size, color, and alpha\n",
    "p.circle([1, 2, 3, 4, 5], [6, 7, 2, 4, 5], size=15, line_color=\"navy\", fill_color=\"orange\", fill_alpha=0.5)\n",
    "\n",
    "show(p) # show the results"
   ]
  },
  {
   "cell_type": "markdown",
   "metadata": {},
   "source": [
    "All Bokeh markers accept `size` (measured in screen space units) as a property. Circles also have `radius` (measured in \"data\" space units). "
   ]
  },
  {
   "cell_type": "code",
   "execution_count": 4,
   "metadata": {},
   "outputs": [],
   "source": [
    "# EXERCISE: Try changing the example above to set a `radius` value instead of `size`\n",
    "\n"
   ]
  },
  {
   "cell_type": "markdown",
   "metadata": {},
   "source": [
    "To scatter square markers instead of circles, you can use the `square` method on figures. "
   ]
  },
  {
   "cell_type": "code",
   "execution_count": 5,
   "metadata": {},
   "outputs": [
    {
     "data": {
      "text/html": [
       "\n",
       "<div class=\"bk-root\">\n",
       "    <div class=\"bk-plotdiv\" id=\"091a723e-da07-4571-842c-3d75c02d2bd5\"></div>\n",
       "</div>"
      ]
     },
     "metadata": {},
     "output_type": "display_data"
    },
    {
     "data": {
      "application/javascript": [
       "(function(root) {\n",
       "  function embed_document(root) {\n",
       "    var docs_json = {\"8aa1f231-21eb-4858-a45a-146184623107\":{\"roots\":{\"references\":[{\"attributes\":{\"dimension\":1,\"plot\":{\"id\":\"f6f53ddb-5fa2-49a2-9c15-f221f21dade1\",\"subtype\":\"Figure\",\"type\":\"Plot\"},\"ticker\":{\"id\":\"d662fb46-5d44-4b49-bd4c-ca71890af410\",\"type\":\"BasicTicker\"}},\"id\":\"1f901cc7-528d-4772-8055-54bd58a45989\",\"type\":\"Grid\"},{\"attributes\":{\"plot\":{\"id\":\"f6f53ddb-5fa2-49a2-9c15-f221f21dade1\",\"subtype\":\"Figure\",\"type\":\"Plot\"},\"ticker\":{\"id\":\"98b5aa76-e012-47ba-b2f6-d5ec587d17e3\",\"type\":\"BasicTicker\"}},\"id\":\"d3b4a4d3-39b8-4679-8c0a-3a7bc2a9bbc9\",\"type\":\"Grid\"},{\"attributes\":{\"fill_alpha\":{\"value\":0.1},\"fill_color\":{\"value\":\"#1f77b4\"},\"line_alpha\":{\"value\":0.1},\"line_color\":{\"value\":\"#1f77b4\"},\"size\":{\"field\":\"size\",\"units\":\"screen\"},\"x\":{\"field\":\"x\"},\"y\":{\"field\":\"y\"}},\"id\":\"03c9aa5d-2f69-4922-98ea-2c330da9c3b0\",\"type\":\"Square\"},{\"attributes\":{},\"id\":\"98b5aa76-e012-47ba-b2f6-d5ec587d17e3\",\"type\":\"BasicTicker\"},{\"attributes\":{\"bottom_units\":\"screen\",\"fill_alpha\":{\"value\":0.5},\"fill_color\":{\"value\":\"lightgrey\"},\"left_units\":\"screen\",\"level\":\"overlay\",\"line_alpha\":{\"value\":1.0},\"line_color\":{\"value\":\"black\"},\"line_dash\":[4,4],\"line_width\":{\"value\":2},\"plot\":null,\"render_mode\":\"css\",\"right_units\":\"screen\",\"top_units\":\"screen\"},\"id\":\"5cb05c07-310c-47c7-8e64-f7c977137a59\",\"type\":\"BoxAnnotation\"},{\"attributes\":{\"data_source\":{\"id\":\"97c593fc-b6db-445f-b6c2-d89f274de3d2\",\"type\":\"ColumnDataSource\"},\"glyph\":{\"id\":\"4268d45d-5c25-477c-b8ea-ad71a2fdbce6\",\"type\":\"Square\"},\"hover_glyph\":null,\"muted_glyph\":null,\"nonselection_glyph\":{\"id\":\"03c9aa5d-2f69-4922-98ea-2c330da9c3b0\",\"type\":\"Square\"},\"selection_glyph\":null,\"view\":{\"id\":\"38d446d1-a769-4417-97bb-7a614c140024\",\"type\":\"CDSView\"}},\"id\":\"d73b70a8-5def-428d-b5f3-7b2d8c0faca1\",\"type\":\"GlyphRenderer\"},{\"attributes\":{\"callback\":null},\"id\":\"bad87b2c-bca9-4096-8e63-11dfc921c133\",\"type\":\"DataRange1d\"},{\"attributes\":{\"formatter\":{\"id\":\"9110848b-bd73-4d7c-8112-782146b6452a\",\"type\":\"BasicTickFormatter\"},\"plot\":{\"id\":\"f6f53ddb-5fa2-49a2-9c15-f221f21dade1\",\"subtype\":\"Figure\",\"type\":\"Plot\"},\"ticker\":{\"id\":\"98b5aa76-e012-47ba-b2f6-d5ec587d17e3\",\"type\":\"BasicTicker\"}},\"id\":\"fca742ee-b1d5-4305-8ffc-2034e3b74560\",\"type\":\"LinearAxis\"},{\"attributes\":{},\"id\":\"a9ad446f-7ad6-48ea-b19f-4c110228dcdd\",\"type\":\"LinearScale\"},{\"attributes\":{},\"id\":\"ea739c29-6bfc-4d4d-9922-60deddf77fcf\",\"type\":\"BasicTickFormatter\"},{\"attributes\":{},\"id\":\"579df838-43aa-436a-be97-549bb2c14865\",\"type\":\"LinearScale\"},{\"attributes\":{\"below\":[{\"id\":\"fca742ee-b1d5-4305-8ffc-2034e3b74560\",\"type\":\"LinearAxis\"}],\"left\":[{\"id\":\"0aa19360-4558-4fa9-804a-12ea97441908\",\"type\":\"LinearAxis\"}],\"plot_height\":400,\"plot_width\":400,\"renderers\":[{\"id\":\"fca742ee-b1d5-4305-8ffc-2034e3b74560\",\"type\":\"LinearAxis\"},{\"id\":\"d3b4a4d3-39b8-4679-8c0a-3a7bc2a9bbc9\",\"type\":\"Grid\"},{\"id\":\"0aa19360-4558-4fa9-804a-12ea97441908\",\"type\":\"LinearAxis\"},{\"id\":\"1f901cc7-528d-4772-8055-54bd58a45989\",\"type\":\"Grid\"},{\"id\":\"5cb05c07-310c-47c7-8e64-f7c977137a59\",\"type\":\"BoxAnnotation\"},{\"id\":\"d73b70a8-5def-428d-b5f3-7b2d8c0faca1\",\"type\":\"GlyphRenderer\"}],\"title\":{\"id\":\"dbfb99e0-2f7d-4003-ab2d-a6144b43a42c\",\"type\":\"Title\"},\"toolbar\":{\"id\":\"42212d1a-1b97-4f5d-b47b-6e692ae67030\",\"type\":\"Toolbar\"},\"x_range\":{\"id\":\"a0f079f5-4cee-4a26-bc30-57ab8c483a50\",\"type\":\"DataRange1d\"},\"x_scale\":{\"id\":\"579df838-43aa-436a-be97-549bb2c14865\",\"type\":\"LinearScale\"},\"y_range\":{\"id\":\"bad87b2c-bca9-4096-8e63-11dfc921c133\",\"type\":\"DataRange1d\"},\"y_scale\":{\"id\":\"a9ad446f-7ad6-48ea-b19f-4c110228dcdd\",\"type\":\"LinearScale\"}},\"id\":\"f6f53ddb-5fa2-49a2-9c15-f221f21dade1\",\"subtype\":\"Figure\",\"type\":\"Plot\"},{\"attributes\":{\"plot\":null,\"text\":\"\"},\"id\":\"dbfb99e0-2f7d-4003-ab2d-a6144b43a42c\",\"type\":\"Title\"},{\"attributes\":{\"source\":{\"id\":\"97c593fc-b6db-445f-b6c2-d89f274de3d2\",\"type\":\"ColumnDataSource\"}},\"id\":\"38d446d1-a769-4417-97bb-7a614c140024\",\"type\":\"CDSView\"},{\"attributes\":{\"overlay\":{\"id\":\"5cb05c07-310c-47c7-8e64-f7c977137a59\",\"type\":\"BoxAnnotation\"}},\"id\":\"fe51c7e4-971b-4442-855f-9736531baaad\",\"type\":\"BoxZoomTool\"},{\"attributes\":{},\"id\":\"dbaaf5f8-b055-4db6-880c-6e1f6346277a\",\"type\":\"SaveTool\"},{\"attributes\":{\"formatter\":{\"id\":\"ea739c29-6bfc-4d4d-9922-60deddf77fcf\",\"type\":\"BasicTickFormatter\"},\"plot\":{\"id\":\"f6f53ddb-5fa2-49a2-9c15-f221f21dade1\",\"subtype\":\"Figure\",\"type\":\"Plot\"},\"ticker\":{\"id\":\"d662fb46-5d44-4b49-bd4c-ca71890af410\",\"type\":\"BasicTicker\"}},\"id\":\"0aa19360-4558-4fa9-804a-12ea97441908\",\"type\":\"LinearAxis\"},{\"attributes\":{},\"id\":\"afd446d9-17d0-4559-bc12-42946c37c92e\",\"type\":\"WheelZoomTool\"},{\"attributes\":{},\"id\":\"d662fb46-5d44-4b49-bd4c-ca71890af410\",\"type\":\"BasicTicker\"},{\"attributes\":{},\"id\":\"9110848b-bd73-4d7c-8112-782146b6452a\",\"type\":\"BasicTickFormatter\"},{\"attributes\":{\"active_drag\":\"auto\",\"active_inspect\":\"auto\",\"active_scroll\":\"auto\",\"active_tap\":\"auto\",\"tools\":[{\"id\":\"ac38521c-59ac-4597-88d7-bdf48199c0cf\",\"type\":\"PanTool\"},{\"id\":\"afd446d9-17d0-4559-bc12-42946c37c92e\",\"type\":\"WheelZoomTool\"},{\"id\":\"fe51c7e4-971b-4442-855f-9736531baaad\",\"type\":\"BoxZoomTool\"},{\"id\":\"dbaaf5f8-b055-4db6-880c-6e1f6346277a\",\"type\":\"SaveTool\"},{\"id\":\"4f5dc44d-42cf-4d6d-90ae-90177cd6822a\",\"type\":\"ResetTool\"},{\"id\":\"2e5ba27f-4b26-4a7d-af7c-442f1d5d4442\",\"type\":\"HelpTool\"}]},\"id\":\"42212d1a-1b97-4f5d-b47b-6e692ae67030\",\"type\":\"Toolbar\"},{\"attributes\":{},\"id\":\"2e5ba27f-4b26-4a7d-af7c-442f1d5d4442\",\"type\":\"HelpTool\"},{\"attributes\":{\"callback\":null},\"id\":\"a0f079f5-4cee-4a26-bc30-57ab8c483a50\",\"type\":\"DataRange1d\"},{\"attributes\":{},\"id\":\"4f5dc44d-42cf-4d6d-90ae-90177cd6822a\",\"type\":\"ResetTool\"},{\"attributes\":{},\"id\":\"ac38521c-59ac-4597-88d7-bdf48199c0cf\",\"type\":\"PanTool\"},{\"attributes\":{\"callback\":null,\"column_names\":[\"x\",\"y\",\"size\"],\"data\":{\"size\":[10,15,20,25,30],\"x\":[1,2,3,4,5],\"y\":[6,7,2,4,5]}},\"id\":\"97c593fc-b6db-445f-b6c2-d89f274de3d2\",\"type\":\"ColumnDataSource\"},{\"attributes\":{\"fill_alpha\":{\"value\":0.6},\"fill_color\":{\"value\":\"firebrick\"},\"line_alpha\":{\"value\":0.6},\"line_color\":{\"value\":\"firebrick\"},\"size\":{\"field\":\"size\",\"units\":\"screen\"},\"x\":{\"field\":\"x\"},\"y\":{\"field\":\"y\"}},\"id\":\"4268d45d-5c25-477c-b8ea-ad71a2fdbce6\",\"type\":\"Square\"}],\"root_ids\":[\"f6f53ddb-5fa2-49a2-9c15-f221f21dade1\"]},\"title\":\"Bokeh Application\",\"version\":\"0.12.10\"}};\n",
       "    var render_items = [{\"docid\":\"8aa1f231-21eb-4858-a45a-146184623107\",\"elementid\":\"091a723e-da07-4571-842c-3d75c02d2bd5\",\"modelid\":\"f6f53ddb-5fa2-49a2-9c15-f221f21dade1\"}];\n",
       "\n",
       "    root.Bokeh.embed.embed_items(docs_json, render_items);\n",
       "  }\n",
       "\n",
       "  if (root.Bokeh !== undefined) {\n",
       "    embed_document(root);\n",
       "  } else {\n",
       "    var attempts = 0;\n",
       "    var timer = setInterval(function(root) {\n",
       "      if (root.Bokeh !== undefined) {\n",
       "        embed_document(root);\n",
       "        clearInterval(timer);\n",
       "      }\n",
       "      attempts++;\n",
       "      if (attempts > 100) {\n",
       "        console.log(\"Bokeh: ERROR: Unable to embed document because BokehJS library is missing\")\n",
       "        clearInterval(timer);\n",
       "      }\n",
       "    }, 10, root)\n",
       "  }\n",
       "})(window);"
      ],
      "application/vnd.bokehjs_exec.v0+json": ""
     },
     "metadata": {
      "application/vnd.bokehjs_exec.v0+json": {
       "id": "f6f53ddb-5fa2-49a2-9c15-f221f21dade1"
      }
     },
     "output_type": "display_data"
    }
   ],
   "source": [
    "# create a new plot using figure\n",
    "p = figure(plot_width=400, plot_height=400)\n",
    "\n",
    "# add a square renderer with a size, color, alpha, and sizes\n",
    "p.square([1, 2, 3, 4, 5], [6, 7, 2, 4, 5], size=[10, 15, 20, 25, 30], color=\"firebrick\", alpha=0.6)\n",
    "\n",
    "show(p) # show the results"
   ]
  },
  {
   "cell_type": "markdown",
   "metadata": {},
   "source": [
    "Note that in the example above, we are also specifying different sizes for each individual marker. ***In general, all of a glyph's properties can be \"vectorized\" in this fashion. ***  Also note that we have passed ``color`` as a shorthand to set both the line and fill colors easily at the same time. This is a convenience specific to ``bokeh.plotting``.\n",
    "\n",
    "</table><p>There are many marker types available in Bokeh, you can see details and\n",
    "example plots for all of them in the reference guide by clicking on entries in the list below:</p>\n",
    "<table class=\"hlist\" style=\"float:left\"><tr><td><ul>\n",
    "<li><a href=\"http://bokeh.pydata.org/en/latest/docs/reference/plotting.html#bokeh.plotting.Figure.asterisk\" title=\"bokeh.plotting.Figure.asterisk\"><code class=\"xref py py-func docutils literal\"><span class=\"pre\">asterisk()</span></code></a></li>\n",
    "<li><a href=\"http://bokeh.pydata.org/en/latest/docs/reference/plotting.html#bokeh.plotting.Figure.circle\" title=\"bokeh.plotting.Figure.circle\"><code class=\"xref py py-func docutils literal\"><span class=\"pre\">circle()</span></code></a></li>\n",
    "<li><a href=\"http://bokeh.pydata.org/en/latest/docs/reference/plotting.html#bokeh.plotting.Figure.circle_cross\" title=\"bokeh.plotting.Figure.circle_cross\"><code class=\"xref py py-func docutils literal\"><span class=\"pre\">circle_cross()</span></code></a></li>\n",
    "<li><a href=\"http://bokeh.pydata.org/en/latest/docs/reference/plotting.html#bokeh.plotting.Figure.circle_x\" title=\"bokeh.plotting.Figure.circle_x\"><code class=\"xref py py-func docutils literal\"><span class=\"pre\">circle_x()</span></code></a></li>\n",
    "<li><a href=\"http://bokeh.pydata.org/en/latest/docs/reference/plotting.html#bokeh.plotting.Figure.cross\" title=\"bokeh.plotting.Figure.cross\"><code class=\"xref py py-func docutils literal\"><span class=\"pre\">cross()</span></code></a></li>\n",
    "</ul>\n",
    "</td><td><ul>\n",
    "<li><a href=\"http://bokeh.pydata.org/en/latest/docs/reference/plotting.html#bokeh.plotting.Figure.diamond\" title=\"bokeh.plotting.Figure.diamond\"><code class=\"xref py py-func docutils literal\"><span class=\"pre\">diamond()</span></code></a></li>\n",
    "<li><a href=\"http://bokeh.pydata.org/en/latest/docs/reference/plotting.html#bokeh.plotting.Figure.diamond_cross\" title=\"bokeh.plotting.Figure.diamond_cross\"><code class=\"xref py py-func docutils literal\"><span class=\"pre\">diamond_cross()</span></code></a></li>\n",
    "<li><a href=\"http://bokeh.pydata.org/en/latest/docs/reference/plotting.html#bokeh.plotting.Figure.inverted_triangle\" title=\"bokeh.plotting.Figure.inverted_triangle\"><code class=\"xref py py-func docutils literal\"><span class=\"pre\">inverted_triangle()</span></code></a></li>\n",
    "<li><a href=\"http://bokeh.pydata.org/en/latest/docs/reference/plotting.html#bokeh.plotting.Figure.square\" title=\"bokeh.plotting.Figure.square\"><code class=\"xref py py-func docutils literal\"><span class=\"pre\">square()</span></code></a></li>\n",
    "</ul>\n",
    "</td><td><ul>\n",
    "<li><a href=\"http://bokeh.pydata.org/en/latest/docs/reference/plotting.html#bokeh.plotting.Figure.square_cross\" title=\"bokeh.plotting.Figure.square_cross\"><code class=\"xref py py-func docutils literal\"><span class=\"pre\">square_cross()</span></code></a></li>\n",
    "<li><a href=\"http://bokeh.pydata.org/en/latest/docs/reference/plotting.html#bokeh.plotting.Figure.square_x\" title=\"bokeh.plotting.Figure.square_x\"><code class=\"xref py py-func docutils literal\"><span class=\"pre\">square_x()</span></code></a></li>\n",
    "<li><a href=\"http://bokeh.pydata.org/en/latest/docs/reference/plotting.html#bokeh.plotting.Figure.triangle\" title=\"bokeh.plotting.Figure.triangle\"><code class=\"xref py py-func docutils literal\"><span class=\"pre\">triangle()</span></code></a></li>\n",
    "<li><a href=\"http://bokeh.pydata.org/en/latest/docs/reference/plotting.html#bokeh.plotting.Figure.x\" title=\"bokeh.plotting.Figure.x\"><code class=\"xref py py-func docutils literal\"><span class=\"pre\">x()</span></code></a></li>\n",
    "</ul>\n",
    "</td></tr></table>"
   ]
  },
  {
   "cell_type": "code",
   "execution_count": 6,
   "metadata": {},
   "outputs": [],
   "source": [
    "# EXERCISE: Plot some different markers in this cell\n",
    "\n"
   ]
  },
  {
   "cell_type": "markdown",
   "metadata": {},
   "source": [
    "# Basic Line Plots"
   ]
  },
  {
   "cell_type": "code",
   "execution_count": 7,
   "metadata": {},
   "outputs": [
    {
     "data": {
      "text/html": [
       "\n",
       "<div class=\"bk-root\">\n",
       "    <div class=\"bk-plotdiv\" id=\"ddaf4750-e7b8-4bfa-b372-271a563e51e6\"></div>\n",
       "</div>"
      ]
     },
     "metadata": {},
     "output_type": "display_data"
    },
    {
     "data": {
      "application/javascript": [
       "(function(root) {\n",
       "  function embed_document(root) {\n",
       "    var docs_json = {\"1b5f5b24-cc18-40a4-9c6c-0a1019e4626e\":{\"roots\":{\"references\":[{\"attributes\":{},\"id\":\"a7fdb859-5a10-499a-b37d-a505e32c5f33\",\"type\":\"LinearScale\"},{\"attributes\":{},\"id\":\"bf4dd09d-abc3-4e3d-97ec-9e28eaf7ad86\",\"type\":\"HelpTool\"},{\"attributes\":{\"line_color\":{\"value\":\"#1f77b4\"},\"line_width\":{\"value\":2},\"x\":{\"field\":\"x\"},\"y\":{\"field\":\"y\"}},\"id\":\"0ba21d37-3cea-4e89-bb76-eace76c57389\",\"type\":\"Line\"},{\"attributes\":{},\"id\":\"550af858-9e57-4858-a0f8-ad4f2a430edf\",\"type\":\"ResetTool\"},{\"attributes\":{},\"id\":\"77cc9c82-2610-4788-93c7-42c7b2a72c85\",\"type\":\"BasicTicker\"},{\"attributes\":{\"callback\":null},\"id\":\"c3cf02ea-d3f7-4af5-88cd-4db8af474074\",\"type\":\"DataRange1d\"},{\"attributes\":{},\"id\":\"baff6f1b-9901-4009-831e-0986d848f401\",\"type\":\"BasicTickFormatter\"},{\"attributes\":{\"below\":[{\"id\":\"41d7432c-b7b8-441d-aaec-14fe7090b75b\",\"type\":\"LinearAxis\"}],\"left\":[{\"id\":\"74fd2dad-65c2-44eb-8e07-09eb25f2404b\",\"type\":\"LinearAxis\"}],\"plot_height\":400,\"plot_width\":400,\"renderers\":[{\"id\":\"41d7432c-b7b8-441d-aaec-14fe7090b75b\",\"type\":\"LinearAxis\"},{\"id\":\"55058ae5-d1d2-4704-964a-faa3b3140c35\",\"type\":\"Grid\"},{\"id\":\"74fd2dad-65c2-44eb-8e07-09eb25f2404b\",\"type\":\"LinearAxis\"},{\"id\":\"9b885c5c-43a1-4a5a-bfda-c9ae78fa0881\",\"type\":\"Grid\"},{\"id\":\"06628e79-8432-41ce-8453-135e5e4b3c41\",\"type\":\"BoxAnnotation\"},{\"id\":\"16f60cd2-5d96-42b7-9f5c-b5830f8f4bf2\",\"type\":\"GlyphRenderer\"}],\"title\":{\"id\":\"bd52ebec-6316-474e-b8fc-f4be3ea4331b\",\"type\":\"Title\"},\"toolbar\":{\"id\":\"3c05d466-c6c5-46f8-b1b5-8c4d0783e099\",\"type\":\"Toolbar\"},\"x_range\":{\"id\":\"9ee3010c-9145-4395-8c44-16a4599219a3\",\"type\":\"DataRange1d\"},\"x_scale\":{\"id\":\"6ca0c7fb-b3a0-43d3-a54e-00288d8e7e7d\",\"type\":\"LinearScale\"},\"y_range\":{\"id\":\"c3cf02ea-d3f7-4af5-88cd-4db8af474074\",\"type\":\"DataRange1d\"},\"y_scale\":{\"id\":\"a7fdb859-5a10-499a-b37d-a505e32c5f33\",\"type\":\"LinearScale\"}},\"id\":\"f8647371-bb2d-482f-a49a-22ae67f95d5f\",\"subtype\":\"Figure\",\"type\":\"Plot\"},{\"attributes\":{\"bottom_units\":\"screen\",\"fill_alpha\":{\"value\":0.5},\"fill_color\":{\"value\":\"lightgrey\"},\"left_units\":\"screen\",\"level\":\"overlay\",\"line_alpha\":{\"value\":1.0},\"line_color\":{\"value\":\"black\"},\"line_dash\":[4,4],\"line_width\":{\"value\":2},\"plot\":null,\"render_mode\":\"css\",\"right_units\":\"screen\",\"top_units\":\"screen\"},\"id\":\"06628e79-8432-41ce-8453-135e5e4b3c41\",\"type\":\"BoxAnnotation\"},{\"attributes\":{\"formatter\":{\"id\":\"baff6f1b-9901-4009-831e-0986d848f401\",\"type\":\"BasicTickFormatter\"},\"plot\":{\"id\":\"f8647371-bb2d-482f-a49a-22ae67f95d5f\",\"subtype\":\"Figure\",\"type\":\"Plot\"},\"ticker\":{\"id\":\"7c8b5784-688c-45a1-a601-67435acf80e9\",\"type\":\"BasicTicker\"}},\"id\":\"74fd2dad-65c2-44eb-8e07-09eb25f2404b\",\"type\":\"LinearAxis\"},{\"attributes\":{},\"id\":\"edc7bd05-e6c7-4f3b-9b21-e9ef872efb68\",\"type\":\"PanTool\"},{\"attributes\":{},\"id\":\"6ca0c7fb-b3a0-43d3-a54e-00288d8e7e7d\",\"type\":\"LinearScale\"},{\"attributes\":{\"plot\":null,\"text\":\"My Line Plot\"},\"id\":\"bd52ebec-6316-474e-b8fc-f4be3ea4331b\",\"type\":\"Title\"},{\"attributes\":{\"formatter\":{\"id\":\"471aea4f-545e-4a65-b8da-87b70fea1c3b\",\"type\":\"BasicTickFormatter\"},\"plot\":{\"id\":\"f8647371-bb2d-482f-a49a-22ae67f95d5f\",\"subtype\":\"Figure\",\"type\":\"Plot\"},\"ticker\":{\"id\":\"77cc9c82-2610-4788-93c7-42c7b2a72c85\",\"type\":\"BasicTicker\"}},\"id\":\"41d7432c-b7b8-441d-aaec-14fe7090b75b\",\"type\":\"LinearAxis\"},{\"attributes\":{\"plot\":{\"id\":\"f8647371-bb2d-482f-a49a-22ae67f95d5f\",\"subtype\":\"Figure\",\"type\":\"Plot\"},\"ticker\":{\"id\":\"77cc9c82-2610-4788-93c7-42c7b2a72c85\",\"type\":\"BasicTicker\"}},\"id\":\"55058ae5-d1d2-4704-964a-faa3b3140c35\",\"type\":\"Grid\"},{\"attributes\":{},\"id\":\"471aea4f-545e-4a65-b8da-87b70fea1c3b\",\"type\":\"BasicTickFormatter\"},{\"attributes\":{\"source\":{\"id\":\"49b0e5b0-df3c-44da-9ebb-eae16d352df4\",\"type\":\"ColumnDataSource\"}},\"id\":\"1f033ed1-5346-4cce-a401-b9d8c34556c9\",\"type\":\"CDSView\"},{\"attributes\":{\"data_source\":{\"id\":\"49b0e5b0-df3c-44da-9ebb-eae16d352df4\",\"type\":\"ColumnDataSource\"},\"glyph\":{\"id\":\"0ba21d37-3cea-4e89-bb76-eace76c57389\",\"type\":\"Line\"},\"hover_glyph\":null,\"muted_glyph\":null,\"nonselection_glyph\":{\"id\":\"d162bb72-ce39-46da-9c54-7f990c5dcbc0\",\"type\":\"Line\"},\"selection_glyph\":null,\"view\":{\"id\":\"1f033ed1-5346-4cce-a401-b9d8c34556c9\",\"type\":\"CDSView\"}},\"id\":\"16f60cd2-5d96-42b7-9f5c-b5830f8f4bf2\",\"type\":\"GlyphRenderer\"},{\"attributes\":{\"callback\":null,\"column_names\":[\"x\",\"y\"],\"data\":{\"x\":[1,2,3,4,5],\"y\":[6,7,2,4,5]}},\"id\":\"49b0e5b0-df3c-44da-9ebb-eae16d352df4\",\"type\":\"ColumnDataSource\"},{\"attributes\":{\"line_alpha\":{\"value\":0.1},\"line_color\":{\"value\":\"#1f77b4\"},\"line_width\":{\"value\":2},\"x\":{\"field\":\"x\"},\"y\":{\"field\":\"y\"}},\"id\":\"d162bb72-ce39-46da-9c54-7f990c5dcbc0\",\"type\":\"Line\"},{\"attributes\":{\"callback\":null},\"id\":\"9ee3010c-9145-4395-8c44-16a4599219a3\",\"type\":\"DataRange1d\"},{\"attributes\":{},\"id\":\"7c8b5784-688c-45a1-a601-67435acf80e9\",\"type\":\"BasicTicker\"},{\"attributes\":{},\"id\":\"8edd3c08-7690-400a-9d69-207ecad4f61e\",\"type\":\"WheelZoomTool\"},{\"attributes\":{\"dimension\":1,\"plot\":{\"id\":\"f8647371-bb2d-482f-a49a-22ae67f95d5f\",\"subtype\":\"Figure\",\"type\":\"Plot\"},\"ticker\":{\"id\":\"7c8b5784-688c-45a1-a601-67435acf80e9\",\"type\":\"BasicTicker\"}},\"id\":\"9b885c5c-43a1-4a5a-bfda-c9ae78fa0881\",\"type\":\"Grid\"},{\"attributes\":{\"overlay\":{\"id\":\"06628e79-8432-41ce-8453-135e5e4b3c41\",\"type\":\"BoxAnnotation\"}},\"id\":\"790d8517-b419-4dc2-a118-2348e5c46a31\",\"type\":\"BoxZoomTool\"},{\"attributes\":{\"active_drag\":\"auto\",\"active_inspect\":\"auto\",\"active_scroll\":\"auto\",\"active_tap\":\"auto\",\"tools\":[{\"id\":\"edc7bd05-e6c7-4f3b-9b21-e9ef872efb68\",\"type\":\"PanTool\"},{\"id\":\"8edd3c08-7690-400a-9d69-207ecad4f61e\",\"type\":\"WheelZoomTool\"},{\"id\":\"790d8517-b419-4dc2-a118-2348e5c46a31\",\"type\":\"BoxZoomTool\"},{\"id\":\"48c3dd93-ff69-481a-95ce-8f933abae2cb\",\"type\":\"SaveTool\"},{\"id\":\"550af858-9e57-4858-a0f8-ad4f2a430edf\",\"type\":\"ResetTool\"},{\"id\":\"bf4dd09d-abc3-4e3d-97ec-9e28eaf7ad86\",\"type\":\"HelpTool\"}]},\"id\":\"3c05d466-c6c5-46f8-b1b5-8c4d0783e099\",\"type\":\"Toolbar\"},{\"attributes\":{},\"id\":\"48c3dd93-ff69-481a-95ce-8f933abae2cb\",\"type\":\"SaveTool\"}],\"root_ids\":[\"f8647371-bb2d-482f-a49a-22ae67f95d5f\"]},\"title\":\"Bokeh Application\",\"version\":\"0.12.10\"}};\n",
       "    var render_items = [{\"docid\":\"1b5f5b24-cc18-40a4-9c6c-0a1019e4626e\",\"elementid\":\"ddaf4750-e7b8-4bfa-b372-271a563e51e6\",\"modelid\":\"f8647371-bb2d-482f-a49a-22ae67f95d5f\"}];\n",
       "\n",
       "    root.Bokeh.embed.embed_items(docs_json, render_items);\n",
       "  }\n",
       "\n",
       "  if (root.Bokeh !== undefined) {\n",
       "    embed_document(root);\n",
       "  } else {\n",
       "    var attempts = 0;\n",
       "    var timer = setInterval(function(root) {\n",
       "      if (root.Bokeh !== undefined) {\n",
       "        embed_document(root);\n",
       "        clearInterval(timer);\n",
       "      }\n",
       "      attempts++;\n",
       "      if (attempts > 100) {\n",
       "        console.log(\"Bokeh: ERROR: Unable to embed document because BokehJS library is missing\")\n",
       "        clearInterval(timer);\n",
       "      }\n",
       "    }, 10, root)\n",
       "  }\n",
       "})(window);"
      ],
      "application/vnd.bokehjs_exec.v0+json": ""
     },
     "metadata": {
      "application/vnd.bokehjs_exec.v0+json": {
       "id": "f8647371-bb2d-482f-a49a-22ae67f95d5f"
      }
     },
     "output_type": "display_data"
    }
   ],
   "source": [
    "# create a new plot (with a title) using figure\n",
    "p = figure(plot_width=400, plot_height=400, title=\"My Line Plot\")\n",
    "\n",
    "# add a line renderer\n",
    "p.line([1, 2, 3, 4, 5], [6, 7, 2, 4, 5], line_width=2)\n",
    "\n",
    "show(p) # show the results"
   ]
  },
  {
   "cell_type": "markdown",
   "metadata": {},
   "source": [
    "# Images"
   ]
  },
  {
   "cell_type": "markdown",
   "metadata": {},
   "source": [
    "The example below shows how to use the `image_rgba` method to display raw RGBA data. \n",
    "\n",
    "**Note**: This example makes use of the NumPy library "
   ]
  },
  {
   "cell_type": "code",
   "execution_count": 8,
   "metadata": {},
   "outputs": [
    {
     "data": {
      "text/html": [
       "\n",
       "<div class=\"bk-root\">\n",
       "    <div class=\"bk-plotdiv\" id=\"13103863-14c6-44da-9efd-cbe2d6f87bf8\"></div>\n",
       "</div>"
      ]
     },
     "metadata": {},
     "output_type": "display_data"
    },
    {
     "data": {
      "application/javascript": [
       "(function(root) {\n",
       "  function embed_document(root) {\n",
       "    var docs_json = {\"56ab4995-9de9-4a2e-b2e6-0766fb806eb8\":{\"roots\":{\"references\":[{\"attributes\":{},\"id\":\"ad9b8d79-9b26-4773-b4e9-3b4bfcfaf407\",\"type\":\"LinearScale\"},{\"attributes\":{},\"id\":\"754948ee-6d7a-451d-922c-42fcc42521ca\",\"type\":\"LinearScale\"},{\"attributes\":{\"plot\":{\"id\":\"37cdc90b-b6ef-4391-aa8f-c2f878284ffd\",\"subtype\":\"Figure\",\"type\":\"Plot\"},\"ticker\":{\"id\":\"df56da9b-81bf-46d9-b5d9-c3a6fe57d438\",\"type\":\"BasicTicker\"}},\"id\":\"ed454510-c994-4f2b-a7a3-053d8ab7dfe2\",\"type\":\"Grid\"},{\"attributes\":{},\"id\":\"394cdf42-9b76-4de5-b287-62bb928e1fa6\",\"type\":\"BasicTickFormatter\"},{\"attributes\":{\"formatter\":{\"id\":\"79c54737-896d-45a9-846f-b19554332fda\",\"type\":\"BasicTickFormatter\"},\"plot\":{\"id\":\"37cdc90b-b6ef-4391-aa8f-c2f878284ffd\",\"subtype\":\"Figure\",\"type\":\"Plot\"},\"ticker\":{\"id\":\"f8525c62-1d7f-4ef5-930d-bf5e4e264d1d\",\"type\":\"BasicTicker\"}},\"id\":\"46928e75-dbf6-4428-8336-4048f2b8eec3\",\"type\":\"LinearAxis\"},{\"attributes\":{},\"id\":\"f8525c62-1d7f-4ef5-930d-bf5e4e264d1d\",\"type\":\"BasicTicker\"},{\"attributes\":{\"dimension\":1,\"plot\":{\"id\":\"37cdc90b-b6ef-4391-aa8f-c2f878284ffd\",\"subtype\":\"Figure\",\"type\":\"Plot\"},\"ticker\":{\"id\":\"f8525c62-1d7f-4ef5-930d-bf5e4e264d1d\",\"type\":\"BasicTicker\"}},\"id\":\"43fa5791-4fe4-4fab-a099-85da29535e7b\",\"type\":\"Grid\"},{\"attributes\":{\"dh\":{\"field\":\"dh\",\"units\":\"data\"},\"dw\":{\"field\":\"dw\",\"units\":\"data\"},\"image\":{\"field\":\"image\"},\"x\":{\"field\":\"x\"},\"y\":{\"field\":\"y\"}},\"id\":\"c3ee249b-687b-4bf9-a095-36d810bf031e\",\"type\":\"ImageRGBA\"},{\"attributes\":{\"overlay\":{\"id\":\"71a4ea72-e622-4057-ada8-97d9a83f8123\",\"type\":\"BoxAnnotation\"}},\"id\":\"df3031bf-12f6-4b45-ad08-7d94b7d33f5d\",\"type\":\"BoxZoomTool\"},{\"attributes\":{\"formatter\":{\"id\":\"394cdf42-9b76-4de5-b287-62bb928e1fa6\",\"type\":\"BasicTickFormatter\"},\"plot\":{\"id\":\"37cdc90b-b6ef-4391-aa8f-c2f878284ffd\",\"subtype\":\"Figure\",\"type\":\"Plot\"},\"ticker\":{\"id\":\"df56da9b-81bf-46d9-b5d9-c3a6fe57d438\",\"type\":\"BasicTicker\"}},\"id\":\"98e53372-287c-427d-bcc3-9d912d1bd4b2\",\"type\":\"LinearAxis\"},{\"attributes\":{\"dh\":{\"field\":\"dh\",\"units\":\"data\"},\"dw\":{\"field\":\"dw\",\"units\":\"data\"},\"image\":{\"field\":\"image\"},\"x\":{\"field\":\"x\"},\"y\":{\"field\":\"y\"}},\"id\":\"c449df58-8173-477c-a0e8-00b67598a8e2\",\"type\":\"ImageRGBA\"},{\"attributes\":{},\"id\":\"c756fb34-30c4-4f63-b63f-0256b6b15541\",\"type\":\"HelpTool\"},{\"attributes\":{},\"id\":\"6cc2a9c1-f60c-486b-a28b-378116e56036\",\"type\":\"WheelZoomTool\"},{\"attributes\":{\"bottom_units\":\"screen\",\"fill_alpha\":{\"value\":0.5},\"fill_color\":{\"value\":\"lightgrey\"},\"left_units\":\"screen\",\"level\":\"overlay\",\"line_alpha\":{\"value\":1.0},\"line_color\":{\"value\":\"black\"},\"line_dash\":[4,4],\"line_width\":{\"value\":2},\"plot\":null,\"render_mode\":\"css\",\"right_units\":\"screen\",\"top_units\":\"screen\"},\"id\":\"71a4ea72-e622-4057-ada8-97d9a83f8123\",\"type\":\"BoxAnnotation\"},{\"attributes\":{\"data_source\":{\"id\":\"87fd0057-aafc-4ac2-8f97-735c5ee6dc7a\",\"type\":\"ColumnDataSource\"},\"glyph\":{\"id\":\"c449df58-8173-477c-a0e8-00b67598a8e2\",\"type\":\"ImageRGBA\"},\"hover_glyph\":null,\"muted_glyph\":null,\"nonselection_glyph\":{\"id\":\"c3ee249b-687b-4bf9-a095-36d810bf031e\",\"type\":\"ImageRGBA\"},\"selection_glyph\":null,\"view\":{\"id\":\"0b8fb266-2487-4bd9-9380-3089f6361806\",\"type\":\"CDSView\"}},\"id\":\"c96d1296-eeaf-4169-94b4-6cc7b7725e8a\",\"type\":\"GlyphRenderer\"},{\"attributes\":{},\"id\":\"91cd62fb-31cf-4035-be47-ca5e294c37a7\",\"type\":\"PanTool\"},{\"attributes\":{},\"id\":\"f609338c-c55f-4b53-93d8-ec151fe2dbbf\",\"type\":\"ResetTool\"},{\"attributes\":{\"source\":{\"id\":\"87fd0057-aafc-4ac2-8f97-735c5ee6dc7a\",\"type\":\"ColumnDataSource\"}},\"id\":\"0b8fb266-2487-4bd9-9380-3089f6361806\",\"type\":\"CDSView\"},{\"attributes\":{\"below\":[{\"id\":\"98e53372-287c-427d-bcc3-9d912d1bd4b2\",\"type\":\"LinearAxis\"}],\"left\":[{\"id\":\"46928e75-dbf6-4428-8336-4048f2b8eec3\",\"type\":\"LinearAxis\"}],\"renderers\":[{\"id\":\"98e53372-287c-427d-bcc3-9d912d1bd4b2\",\"type\":\"LinearAxis\"},{\"id\":\"ed454510-c994-4f2b-a7a3-053d8ab7dfe2\",\"type\":\"Grid\"},{\"id\":\"46928e75-dbf6-4428-8336-4048f2b8eec3\",\"type\":\"LinearAxis\"},{\"id\":\"43fa5791-4fe4-4fab-a099-85da29535e7b\",\"type\":\"Grid\"},{\"id\":\"71a4ea72-e622-4057-ada8-97d9a83f8123\",\"type\":\"BoxAnnotation\"},{\"id\":\"c96d1296-eeaf-4169-94b4-6cc7b7725e8a\",\"type\":\"GlyphRenderer\"}],\"title\":{\"id\":\"2339c184-61ea-4312-9cef-f96b6d01cebc\",\"type\":\"Title\"},\"toolbar\":{\"id\":\"e2bd63d5-ea5f-4ca7-ad81-1df165dfbe64\",\"type\":\"Toolbar\"},\"x_range\":{\"id\":\"2dddf6ab-d3cd-4862-94ec-c346d1482b76\",\"type\":\"Range1d\"},\"x_scale\":{\"id\":\"ad9b8d79-9b26-4773-b4e9-3b4bfcfaf407\",\"type\":\"LinearScale\"},\"y_range\":{\"id\":\"c5cede7c-f846-42c2-84a4-84116eb05254\",\"type\":\"Range1d\"},\"y_scale\":{\"id\":\"754948ee-6d7a-451d-922c-42fcc42521ca\",\"type\":\"LinearScale\"}},\"id\":\"37cdc90b-b6ef-4391-aa8f-c2f878284ffd\",\"subtype\":\"Figure\",\"type\":\"Plot\"},{\"attributes\":{\"callback\":null,\"column_names\":[\"image\",\"x\",\"y\",\"dw\",\"dh\"],\"data\":{\"dh\":[10],\"dw\":[10],\"image\":[{\"__ndarray__\":\"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\",\"dtype\":\"uint32\",\"shape\":[20,20]}],\"x\":[0],\"y\":[0]}},\"id\":\"87fd0057-aafc-4ac2-8f97-735c5ee6dc7a\",\"type\":\"ColumnDataSource\"},{\"attributes\":{\"active_drag\":\"auto\",\"active_inspect\":\"auto\",\"active_scroll\":\"auto\",\"active_tap\":\"auto\",\"tools\":[{\"id\":\"91cd62fb-31cf-4035-be47-ca5e294c37a7\",\"type\":\"PanTool\"},{\"id\":\"6cc2a9c1-f60c-486b-a28b-378116e56036\",\"type\":\"WheelZoomTool\"},{\"id\":\"df3031bf-12f6-4b45-ad08-7d94b7d33f5d\",\"type\":\"BoxZoomTool\"},{\"id\":\"5934e419-25e4-456e-af81-d662657cc6c2\",\"type\":\"SaveTool\"},{\"id\":\"f609338c-c55f-4b53-93d8-ec151fe2dbbf\",\"type\":\"ResetTool\"},{\"id\":\"c756fb34-30c4-4f63-b63f-0256b6b15541\",\"type\":\"HelpTool\"}]},\"id\":\"e2bd63d5-ea5f-4ca7-ad81-1df165dfbe64\",\"type\":\"Toolbar\"},{\"attributes\":{\"plot\":null,\"text\":\"\"},\"id\":\"2339c184-61ea-4312-9cef-f96b6d01cebc\",\"type\":\"Title\"},{\"attributes\":{\"callback\":null,\"end\":10},\"id\":\"2dddf6ab-d3cd-4862-94ec-c346d1482b76\",\"type\":\"Range1d\"},{\"attributes\":{},\"id\":\"df56da9b-81bf-46d9-b5d9-c3a6fe57d438\",\"type\":\"BasicTicker\"},{\"attributes\":{},\"id\":\"5934e419-25e4-456e-af81-d662657cc6c2\",\"type\":\"SaveTool\"},{\"attributes\":{\"callback\":null,\"end\":10},\"id\":\"c5cede7c-f846-42c2-84a4-84116eb05254\",\"type\":\"Range1d\"},{\"attributes\":{},\"id\":\"79c54737-896d-45a9-846f-b19554332fda\",\"type\":\"BasicTickFormatter\"}],\"root_ids\":[\"37cdc90b-b6ef-4391-aa8f-c2f878284ffd\"]},\"title\":\"Bokeh Application\",\"version\":\"0.12.10\"}};\n",
       "    var render_items = [{\"docid\":\"56ab4995-9de9-4a2e-b2e6-0766fb806eb8\",\"elementid\":\"13103863-14c6-44da-9efd-cbe2d6f87bf8\",\"modelid\":\"37cdc90b-b6ef-4391-aa8f-c2f878284ffd\"}];\n",
       "\n",
       "    root.Bokeh.embed.embed_items(docs_json, render_items);\n",
       "  }\n",
       "\n",
       "  if (root.Bokeh !== undefined) {\n",
       "    embed_document(root);\n",
       "  } else {\n",
       "    var attempts = 0;\n",
       "    var timer = setInterval(function(root) {\n",
       "      if (root.Bokeh !== undefined) {\n",
       "        embed_document(root);\n",
       "        clearInterval(timer);\n",
       "      }\n",
       "      attempts++;\n",
       "      if (attempts > 100) {\n",
       "        console.log(\"Bokeh: ERROR: Unable to embed document because BokehJS library is missing\")\n",
       "        clearInterval(timer);\n",
       "      }\n",
       "    }, 10, root)\n",
       "  }\n",
       "})(window);"
      ],
      "application/vnd.bokehjs_exec.v0+json": ""
     },
     "metadata": {
      "application/vnd.bokehjs_exec.v0+json": {
       "id": "37cdc90b-b6ef-4391-aa8f-c2f878284ffd"
      }
     },
     "output_type": "display_data"
    }
   ],
   "source": [
    "from __future__ import division\n",
    "import numpy as np\n",
    "\n",
    "# set up some data\n",
    "N = 20\n",
    "img = np.empty((N,N), dtype=np.uint32)\n",
    "view = img.view(dtype=np.uint8).reshape((N, N, 4))\n",
    "for i in range(N):\n",
    "    for j in range(N):\n",
    "        view[i, j, 0] = int(i/N*255) # red\n",
    "        view[i, j, 1] = 158          # green\n",
    "        view[i, j, 2] = int(j/N*255) # blue\n",
    "        view[i, j, 3] = 255          # alpha\n",
    "        \n",
    "# create a new plot (with a fixed range) using figure\n",
    "p = figure(x_range=[0,10], y_range=[0,10])\n",
    "\n",
    "# add an RGBA image renderer\n",
    "p.image_rgba(image=[img], x=[0], y=[0], dw=[10], dh=[10])\n",
    "\n",
    "show(p) # show the results"
   ]
  },
  {
   "cell_type": "markdown",
   "metadata": {},
   "source": [
    "# Other Kinds of Glyphs\n",
    "\n",
    "Bokeh supports many other kinds of glyphs. You can click on the User Guide links below to see how to create plots with these glyphs using the [`bokeh.plotting`](http://bokeh.pydata.org/en/latest/docs/user_guide/plotting.html) interface.\n",
    "\n",
    "* [Rectangles and Ovals](http://bokeh.pydata.org/en/latest/docs/user_guide/plotting.html#rectangles-and-ovals)\n",
    "* [Segments and Rays](http://bokeh.pydata.org/en/latest/docs/user_guide/plotting.html#segments-and-rays)\n",
    "* [Wedges and Arcs](http://bokeh.pydata.org/en/latest/docs/user_guide/plotting.html#wedges-and-arcs)\n",
    "* [Specialized Curves](http://bokeh.pydata.org/en/latest/docs/user_guide/plotting.html#specialized-curves)\n"
   ]
  },
  {
   "cell_type": "code",
   "execution_count": 9,
   "metadata": {},
   "outputs": [],
   "source": [
    "# EXERCISE: Plot some of the other glyph types, following the examples in the User Guide. \n",
    "\n"
   ]
  },
  {
   "cell_type": "markdown",
   "metadata": {},
   "source": [
    "# Plots with Multiple Glyphs \n",
    "\n",
    "It is possible to combine more than one glyph on a single figure. You just need to call multiple glyph methods on one figure object:"
   ]
  },
  {
   "cell_type": "code",
   "execution_count": 10,
   "metadata": {},
   "outputs": [
    {
     "data": {
      "text/html": [
       "\n",
       "<div class=\"bk-root\">\n",
       "    <div class=\"bk-plotdiv\" id=\"9712938c-49f3-48ce-9c35-4b0fb32cb60c\"></div>\n",
       "</div>"
      ]
     },
     "metadata": {},
     "output_type": "display_data"
    },
    {
     "data": {
      "application/javascript": [
       "(function(root) {\n",
       "  function embed_document(root) {\n",
       "    var docs_json = {\"8694ab10-0009-46d4-8e22-afde02ef709c\":{\"roots\":{\"references\":[{\"attributes\":{\"callback\":null},\"id\":\"51982680-969b-4adb-ace6-5c19f7e6b1e3\",\"type\":\"DataRange1d\"},{\"attributes\":{\"callback\":null,\"column_names\":[\"x\",\"y\"],\"data\":{\"x\":[1,2,3,4,5],\"y\":[6,7,8,7,3]}},\"id\":\"d34e2c79-3273-45c8-bc0d-5d53b3225a1f\",\"type\":\"ColumnDataSource\"},{\"attributes\":{\"data_source\":{\"id\":\"d34e2c79-3273-45c8-bc0d-5d53b3225a1f\",\"type\":\"ColumnDataSource\"},\"glyph\":{\"id\":\"56533038-267b-4110-a36a-72ba86d7bd78\",\"type\":\"Line\"},\"hover_glyph\":null,\"muted_glyph\":null,\"nonselection_glyph\":{\"id\":\"11623f8f-7ed1-49a2-a7bc-fb942564865a\",\"type\":\"Line\"},\"selection_glyph\":null,\"view\":{\"id\":\"e2c1862d-dcc7-46ee-acfc-26ec98b7023e\",\"type\":\"CDSView\"}},\"id\":\"23dc22d2-c23b-43e2-9641-989f22d82870\",\"type\":\"GlyphRenderer\"},{\"attributes\":{},\"id\":\"85ff4f38-cc6a-419d-a486-f304616a8291\",\"type\":\"BasicTickFormatter\"},{\"attributes\":{\"below\":[{\"id\":\"fd679fd3-5c63-4d9f-8634-45ea7c355924\",\"type\":\"LinearAxis\"}],\"left\":[{\"id\":\"c2293db4-0239-4564-a520-20b1ae07ffab\",\"type\":\"LinearAxis\"}],\"plot_height\":400,\"plot_width\":400,\"renderers\":[{\"id\":\"fd679fd3-5c63-4d9f-8634-45ea7c355924\",\"type\":\"LinearAxis\"},{\"id\":\"19a590cd-84da-4330-b4c0-fb67985ca9eb\",\"type\":\"Grid\"},{\"id\":\"c2293db4-0239-4564-a520-20b1ae07ffab\",\"type\":\"LinearAxis\"},{\"id\":\"228b47c1-35a2-4a39-a959-83d186d87bde\",\"type\":\"Grid\"},{\"id\":\"16f290e8-296a-4fc3-b374-1c1ac57c7545\",\"type\":\"BoxAnnotation\"},{\"id\":\"23dc22d2-c23b-43e2-9641-989f22d82870\",\"type\":\"GlyphRenderer\"},{\"id\":\"c028b887-b6e2-4cbd-87af-93564c8232fc\",\"type\":\"GlyphRenderer\"}],\"title\":{\"id\":\"1ef14f48-b088-45f2-950b-a27663ee2254\",\"type\":\"Title\"},\"toolbar\":{\"id\":\"03f96edc-cb39-4642-b890-4238e58dd4bd\",\"type\":\"Toolbar\"},\"x_range\":{\"id\":\"51982680-969b-4adb-ace6-5c19f7e6b1e3\",\"type\":\"DataRange1d\"},\"x_scale\":{\"id\":\"cc1408dc-e223-4925-b602-50472d84294d\",\"type\":\"LinearScale\"},\"y_range\":{\"id\":\"caa20dc5-91e8-4460-8898-809f2e07f390\",\"type\":\"DataRange1d\"},\"y_scale\":{\"id\":\"cf6538a8-6e9c-427d-9391-0d1ba7bb9df2\",\"type\":\"LinearScale\"}},\"id\":\"8b9e4475-78df-4c69-80ea-337e07343d42\",\"subtype\":\"Figure\",\"type\":\"Plot\"},{\"attributes\":{\"active_drag\":\"auto\",\"active_inspect\":\"auto\",\"active_scroll\":\"auto\",\"active_tap\":\"auto\",\"tools\":[{\"id\":\"187c9e5c-68f7-4c3d-8e10-1023bed19318\",\"type\":\"PanTool\"},{\"id\":\"04dcb711-2103-4ecd-8d99-56197955eed5\",\"type\":\"WheelZoomTool\"},{\"id\":\"f5665c94-0f84-431b-ba56-9a88802eee60\",\"type\":\"BoxZoomTool\"},{\"id\":\"80330477-6e58-48e7-a835-8f2441a22b10\",\"type\":\"SaveTool\"},{\"id\":\"8334b65a-1ee9-45cc-b3e9-ba6cdc8c9a42\",\"type\":\"ResetTool\"},{\"id\":\"28ea6b0a-9761-4595-9c6f-e6731b6d95c3\",\"type\":\"HelpTool\"}]},\"id\":\"03f96edc-cb39-4642-b890-4238e58dd4bd\",\"type\":\"Toolbar\"},{\"attributes\":{\"dimension\":1,\"plot\":{\"id\":\"8b9e4475-78df-4c69-80ea-337e07343d42\",\"subtype\":\"Figure\",\"type\":\"Plot\"},\"ticker\":{\"id\":\"f6fcc6f0-5df6-4b45-9156-2f241339016d\",\"type\":\"BasicTicker\"}},\"id\":\"228b47c1-35a2-4a39-a959-83d186d87bde\",\"type\":\"Grid\"},{\"attributes\":{\"callback\":null,\"column_names\":[\"x\",\"y\"],\"data\":{\"x\":[1,2,3,4,5],\"y\":[6,7,8,7,3]}},\"id\":\"d51a3658-bef7-45d3-93f8-02f2bed3b736\",\"type\":\"ColumnDataSource\"},{\"attributes\":{\"line_alpha\":{\"value\":0.1},\"line_color\":{\"value\":\"#1f77b4\"},\"line_width\":{\"value\":2},\"x\":{\"field\":\"x\"},\"y\":{\"field\":\"y\"}},\"id\":\"11623f8f-7ed1-49a2-a7bc-fb942564865a\",\"type\":\"Line\"},{\"attributes\":{},\"id\":\"f6fcc6f0-5df6-4b45-9156-2f241339016d\",\"type\":\"BasicTicker\"},{\"attributes\":{\"line_color\":{\"value\":\"#1f77b4\"},\"line_width\":{\"value\":2},\"x\":{\"field\":\"x\"},\"y\":{\"field\":\"y\"}},\"id\":\"56533038-267b-4110-a36a-72ba86d7bd78\",\"type\":\"Line\"},{\"attributes\":{\"callback\":null},\"id\":\"caa20dc5-91e8-4460-8898-809f2e07f390\",\"type\":\"DataRange1d\"},{\"attributes\":{},\"id\":\"cc1408dc-e223-4925-b602-50472d84294d\",\"type\":\"LinearScale\"},{\"attributes\":{},\"id\":\"cf6538a8-6e9c-427d-9391-0d1ba7bb9df2\",\"type\":\"LinearScale\"},{\"attributes\":{\"plot\":{\"id\":\"8b9e4475-78df-4c69-80ea-337e07343d42\",\"subtype\":\"Figure\",\"type\":\"Plot\"},\"ticker\":{\"id\":\"58b09658-ec52-4db2-959f-c6c7693b24f2\",\"type\":\"BasicTicker\"}},\"id\":\"19a590cd-84da-4330-b4c0-fb67985ca9eb\",\"type\":\"Grid\"},{\"attributes\":{\"formatter\":{\"id\":\"85ff4f38-cc6a-419d-a486-f304616a8291\",\"type\":\"BasicTickFormatter\"},\"plot\":{\"id\":\"8b9e4475-78df-4c69-80ea-337e07343d42\",\"subtype\":\"Figure\",\"type\":\"Plot\"},\"ticker\":{\"id\":\"58b09658-ec52-4db2-959f-c6c7693b24f2\",\"type\":\"BasicTicker\"}},\"id\":\"fd679fd3-5c63-4d9f-8634-45ea7c355924\",\"type\":\"LinearAxis\"},{\"attributes\":{},\"id\":\"58b09658-ec52-4db2-959f-c6c7693b24f2\",\"type\":\"BasicTicker\"},{\"attributes\":{\"formatter\":{\"id\":\"20e4d9d8-705c-4cdc-bba8-e8353d3ced7d\",\"type\":\"BasicTickFormatter\"},\"plot\":{\"id\":\"8b9e4475-78df-4c69-80ea-337e07343d42\",\"subtype\":\"Figure\",\"type\":\"Plot\"},\"ticker\":{\"id\":\"f6fcc6f0-5df6-4b45-9156-2f241339016d\",\"type\":\"BasicTicker\"}},\"id\":\"c2293db4-0239-4564-a520-20b1ae07ffab\",\"type\":\"LinearAxis\"},{\"attributes\":{\"source\":{\"id\":\"d51a3658-bef7-45d3-93f8-02f2bed3b736\",\"type\":\"ColumnDataSource\"}},\"id\":\"7e1b0419-d98a-4fce-9245-8e15326ee33a\",\"type\":\"CDSView\"},{\"attributes\":{\"bottom_units\":\"screen\",\"fill_alpha\":{\"value\":0.5},\"fill_color\":{\"value\":\"lightgrey\"},\"left_units\":\"screen\",\"level\":\"overlay\",\"line_alpha\":{\"value\":1.0},\"line_color\":{\"value\":\"black\"},\"line_dash\":[4,4],\"line_width\":{\"value\":2},\"plot\":null,\"render_mode\":\"css\",\"right_units\":\"screen\",\"top_units\":\"screen\"},\"id\":\"16f290e8-296a-4fc3-b374-1c1ac57c7545\",\"type\":\"BoxAnnotation\"},{\"attributes\":{},\"id\":\"20e4d9d8-705c-4cdc-bba8-e8353d3ced7d\",\"type\":\"BasicTickFormatter\"},{\"attributes\":{\"fill_alpha\":{\"value\":0.1},\"fill_color\":{\"value\":\"#1f77b4\"},\"line_alpha\":{\"value\":0.1},\"line_color\":{\"value\":\"#1f77b4\"},\"size\":{\"units\":\"screen\",\"value\":8},\"x\":{\"field\":\"x\"},\"y\":{\"field\":\"y\"}},\"id\":\"7d259361-b756-4d7a-8cde-5a8359ac728a\",\"type\":\"Circle\"},{\"attributes\":{},\"id\":\"187c9e5c-68f7-4c3d-8e10-1023bed19318\",\"type\":\"PanTool\"},{\"attributes\":{\"source\":{\"id\":\"d34e2c79-3273-45c8-bc0d-5d53b3225a1f\",\"type\":\"ColumnDataSource\"}},\"id\":\"e2c1862d-dcc7-46ee-acfc-26ec98b7023e\",\"type\":\"CDSView\"},{\"attributes\":{},\"id\":\"04dcb711-2103-4ecd-8d99-56197955eed5\",\"type\":\"WheelZoomTool\"},{\"attributes\":{\"overlay\":{\"id\":\"16f290e8-296a-4fc3-b374-1c1ac57c7545\",\"type\":\"BoxAnnotation\"}},\"id\":\"f5665c94-0f84-431b-ba56-9a88802eee60\",\"type\":\"BoxZoomTool\"},{\"attributes\":{},\"id\":\"80330477-6e58-48e7-a835-8f2441a22b10\",\"type\":\"SaveTool\"},{\"attributes\":{},\"id\":\"8334b65a-1ee9-45cc-b3e9-ba6cdc8c9a42\",\"type\":\"ResetTool\"},{\"attributes\":{},\"id\":\"28ea6b0a-9761-4595-9c6f-e6731b6d95c3\",\"type\":\"HelpTool\"},{\"attributes\":{\"fill_color\":{\"value\":\"white\"},\"line_color\":{\"value\":\"#1f77b4\"},\"size\":{\"units\":\"screen\",\"value\":8},\"x\":{\"field\":\"x\"},\"y\":{\"field\":\"y\"}},\"id\":\"c5902597-f52d-4334-a01f-6dfdb7a6dc17\",\"type\":\"Circle\"},{\"attributes\":{\"plot\":null,\"text\":\"\"},\"id\":\"1ef14f48-b088-45f2-950b-a27663ee2254\",\"type\":\"Title\"},{\"attributes\":{\"data_source\":{\"id\":\"d51a3658-bef7-45d3-93f8-02f2bed3b736\",\"type\":\"ColumnDataSource\"},\"glyph\":{\"id\":\"c5902597-f52d-4334-a01f-6dfdb7a6dc17\",\"type\":\"Circle\"},\"hover_glyph\":null,\"muted_glyph\":null,\"nonselection_glyph\":{\"id\":\"7d259361-b756-4d7a-8cde-5a8359ac728a\",\"type\":\"Circle\"},\"selection_glyph\":null,\"view\":{\"id\":\"7e1b0419-d98a-4fce-9245-8e15326ee33a\",\"type\":\"CDSView\"}},\"id\":\"c028b887-b6e2-4cbd-87af-93564c8232fc\",\"type\":\"GlyphRenderer\"}],\"root_ids\":[\"8b9e4475-78df-4c69-80ea-337e07343d42\"]},\"title\":\"Bokeh Application\",\"version\":\"0.12.10\"}};\n",
       "    var render_items = [{\"docid\":\"8694ab10-0009-46d4-8e22-afde02ef709c\",\"elementid\":\"9712938c-49f3-48ce-9c35-4b0fb32cb60c\",\"modelid\":\"8b9e4475-78df-4c69-80ea-337e07343d42\"}];\n",
       "\n",
       "    root.Bokeh.embed.embed_items(docs_json, render_items);\n",
       "  }\n",
       "\n",
       "  if (root.Bokeh !== undefined) {\n",
       "    embed_document(root);\n",
       "  } else {\n",
       "    var attempts = 0;\n",
       "    var timer = setInterval(function(root) {\n",
       "      if (root.Bokeh !== undefined) {\n",
       "        embed_document(root);\n",
       "        clearInterval(timer);\n",
       "      }\n",
       "      attempts++;\n",
       "      if (attempts > 100) {\n",
       "        console.log(\"Bokeh: ERROR: Unable to embed document because BokehJS library is missing\")\n",
       "        clearInterval(timer);\n",
       "      }\n",
       "    }, 10, root)\n",
       "  }\n",
       "})(window);"
      ],
      "application/vnd.bokehjs_exec.v0+json": ""
     },
     "metadata": {
      "application/vnd.bokehjs_exec.v0+json": {
       "id": "8b9e4475-78df-4c69-80ea-337e07343d42"
      }
     },
     "output_type": "display_data"
    }
   ],
   "source": [
    "# set up some data\n",
    "x = [1, 2, 3, 4, 5]\n",
    "y = [6, 7, 8, 7, 3]\n",
    "\n",
    "# create a new plot with figure\n",
    "p = figure(plot_width=400, plot_height=400)\n",
    "\n",
    "# add both a line and circles on the same plot\n",
    "p.line(x, y, line_width=2)\n",
    "p.circle(x, y, fill_color=\"white\", size=8)\n",
    "\n",
    "show(p) # show the results"
   ]
  },
  {
   "cell_type": "code",
   "execution_count": 11,
   "metadata": {},
   "outputs": [],
   "source": [
    "# EXERCISE: create your own plot combining multiple glyphs together\n",
    "\n"
   ]
  }
 ],
 "metadata": {
  "anaconda-cloud": {},
  "kernelspec": {
   "display_name": "Python 3",
   "language": "python",
   "name": "python3"
  },
  "language_info": {
   "codemirror_mode": {
    "name": "ipython",
    "version": 3
   },
   "file_extension": ".py",
   "mimetype": "text/x-python",
   "name": "python",
   "nbconvert_exporter": "python",
   "pygments_lexer": "ipython3",
   "version": "3.6.2"
  },
  "widgets": {
   "application/vnd.jupyter.widget-state+json": {
    "state": {},
    "version_major": 2,
    "version_minor": 0
   }
  }
 },
 "nbformat": 4,
 "nbformat_minor": 1
}
